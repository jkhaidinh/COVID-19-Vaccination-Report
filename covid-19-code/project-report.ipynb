{
 "cells": [
  {
   "cell_type": "markdown",
   "id": "devoted-brook",
   "metadata": {},
   "source": [
    "## Group information\n",
    "\n",
    "**Group members**: Jason Dinh, Kyle Huang, and William Fu"
   ]
  },
  {
   "cell_type": "code",
   "execution_count": 8,
   "id": "fatal-bibliography",
   "metadata": {
    "jupyter": {
     "source_hidden": true
    }
   },
   "outputs": [
    {
     "data": {
      "text/html": [
       "<div>\n",
       "<style scoped>\n",
       "    .dataframe tbody tr th:only-of-type {\n",
       "        vertical-align: middle;\n",
       "    }\n",
       "\n",
       "    .dataframe tbody tr th {\n",
       "        vertical-align: top;\n",
       "    }\n",
       "\n",
       "    .dataframe thead th {\n",
       "        text-align: right;\n",
       "    }\n",
       "</style>\n",
       "<table border=\"1\" class=\"dataframe\">\n",
       "  <thead>\n",
       "    <tr style=\"text-align: right;\">\n",
       "      <th></th>\n",
       "      <th>Zip Code Tabulation Area</th>\n",
       "      <th>County</th>\n",
       "      <th>Vaccine Equity Metric Quartile</th>\n",
       "      <th>16+ Population</th>\n",
       "      <th>Persons Fully Vaccinated</th>\n",
       "      <th>Persons Partially Vaccinated</th>\n",
       "      <th>Percent of Population with 1+ Dose</th>\n",
       "    </tr>\n",
       "  </thead>\n",
       "  <tbody>\n",
       "    <tr>\n",
       "      <th>0</th>\n",
       "      <td>94555</td>\n",
       "      <td>Alameda</td>\n",
       "      <td>4.0</td>\n",
       "      <td>29202</td>\n",
       "      <td>17056.0</td>\n",
       "      <td>5948.0</td>\n",
       "      <td>0.787754</td>\n",
       "    </tr>\n",
       "    <tr>\n",
       "      <th>1</th>\n",
       "      <td>94618</td>\n",
       "      <td>Alameda</td>\n",
       "      <td>4.0</td>\n",
       "      <td>14227</td>\n",
       "      <td>10004.0</td>\n",
       "      <td>1878.0</td>\n",
       "      <td>0.835173</td>\n",
       "    </tr>\n",
       "    <tr>\n",
       "      <th>2</th>\n",
       "      <td>94544</td>\n",
       "      <td>Alameda</td>\n",
       "      <td>2.0</td>\n",
       "      <td>63279</td>\n",
       "      <td>29493.0</td>\n",
       "      <td>10898.0</td>\n",
       "      <td>0.638300</td>\n",
       "    </tr>\n",
       "    <tr>\n",
       "      <th>3</th>\n",
       "      <td>94545</td>\n",
       "      <td>Alameda</td>\n",
       "      <td>3.0</td>\n",
       "      <td>27083</td>\n",
       "      <td>15052.0</td>\n",
       "      <td>4881.0</td>\n",
       "      <td>0.735997</td>\n",
       "    </tr>\n",
       "    <tr>\n",
       "      <th>4</th>\n",
       "      <td>94577</td>\n",
       "      <td>Alameda</td>\n",
       "      <td>3.0</td>\n",
       "      <td>39920</td>\n",
       "      <td>21952.0</td>\n",
       "      <td>6506.0</td>\n",
       "      <td>0.712876</td>\n",
       "    </tr>\n",
       "  </tbody>\n",
       "</table>\n",
       "</div>"
      ],
      "text/plain": [
       "   Zip Code Tabulation Area   County  Vaccine Equity Metric Quartile  \\\n",
       "0                     94555  Alameda                             4.0   \n",
       "1                     94618  Alameda                             4.0   \n",
       "2                     94544  Alameda                             2.0   \n",
       "3                     94545  Alameda                             3.0   \n",
       "4                     94577  Alameda                             3.0   \n",
       "\n",
       "   16+ Population  Persons Fully Vaccinated  Persons Partially Vaccinated  \\\n",
       "0           29202                   17056.0                        5948.0   \n",
       "1           14227                   10004.0                        1878.0   \n",
       "2           63279                   29493.0                       10898.0   \n",
       "3           27083                   15052.0                        4881.0   \n",
       "4           39920                   21952.0                        6506.0   \n",
       "\n",
       "   Percent of Population with 1+ Dose  \n",
       "0                            0.787754  \n",
       "1                            0.835173  \n",
       "2                            0.638300  \n",
       "3                            0.735997  \n",
       "4                            0.712876  "
      ]
     },
     "execution_count": 8,
     "metadata": {},
     "output_type": "execute_result"
    }
   ],
   "source": [
    "vax = pd.read_csv(\"covid-19-vaccines-by-zip-code-5-12-21.csv\")\n",
    "\n",
    "vaxtidy = vax.dropna(how = 'any')\n",
    "\n",
    "vaxtidy = vaxtidy[['Zip Code Tabulation Area', 'County', 'Vaccine Equity Metric Quartile', '16+ Population', 'Persons Fully Vaccinated',\n",
    "                   'Persons Partially Vaccinated', 'Percent of Population with 1+ Dose']].reset_index().drop(columns = 'index')\n",
    "vaxtidy.head()"
   ]
  },
  {
   "cell_type": "markdown",
   "id": "italian-capability",
   "metadata": {},
   "source": [
    "# PSTAT 100 Project Report"
   ]
  },
  {
   "cell_type": "markdown",
   "id": "aging-support",
   "metadata": {},
   "source": [
    "---\n",
    "## 0. Abstract\n",
    "Our report looks into COVID vaccinations, vaccine equity metric quartile, and political parties by each county or zip code. Our goal in this report is to see whether higher vaccine equity metric quartile means higher COVID vaccinations as well as whether higher vaccinations is tied to a Democratic majority county. We will look into the various plots to analyze the data and ultimately come up with a conclusion if there is any correlation."
   ]
  },
  {
   "cell_type": "markdown",
   "id": "scenic-habitat",
   "metadata": {},
   "source": [
    "---\n",
    "## 1. Background\n",
    "COVID-19 is caused by a coronavirus called SARS-CoV-2. Older adults and people who have severe underlying medical conditions like heart or lung disease or diabetes seem to be at higher risk for developing more serious complications from COVID-19 illness. \n",
    "\n",
    "<center><img src='Coronavirus-CDC-645x645.jpg' style='width:200px'></center>\n",
    "\n",
    "COVID-19 vaccines have been authorized for emergency use by the FDA due to the severity of COVID-19 in the United States.\n",
    "\n",
    "This project seeks to see if different Vaccine Equity Metric Quartile shows different percentages of vaccinations in California. One of the data gives us doses from partial to full for each zip code in California and the other data tells us each counties' resident's political party in California. The motivation for collecting this data is to see how each community is doing on administering doses of the COVID-19 vaccine. We could potentially learn how different healthy community conditions have different accessibility of vaccines as well as learning if political parties of counties correlates with the amount of people vaccinated."
   ]
  },
  {
   "cell_type": "markdown",
   "id": "assigned-statistics",
   "metadata": {},
   "source": [
    "--- \n",
    "## 2. Data description\n",
    "The data are Covid-19 vaccine doses of May 12, 2021 and it shows full, partial, and at least 1 dose coverage rates between different zip codes in California. There is also a dataset for registered people in California and their political party by county.\n",
    "\n",
    "The data comes from the California Open Data Portal and the California Secretary of State, Dr. Shirley N. Weber. The COVID-19 sources are from California Immunization Registry 2015-2019 5-Year data. The political party sources are from the Report of Registration of February 10, 2021.\n",
    "\n",
    "https://data.ca.gov/dataset/covid-19-vaccine-progress-dashboard-data-by-zip-code & https://www.sos.ca.gov/elections/report-registration/ror-odd-year-2021\n",
    "\n",
    "### Sample and measurement information\n",
    "The data values were obtained through records of the California Immunization Registry and Report of Registration. \n",
    "\n",
    "### Data Structure\n",
    "For this study, the observational units of the vaccine and report of registration data are both persons. The variables are Zip Code Tabulation Area, Vaccine Equity Metric Quartile, the population of 16+, people partially or fully vaccinated, and the percent of partially, fully, or 1+ dose.\n",
    "\n",
    "Table 1: variable description and units for each variable in the vaccination dataset\n",
    "\n",
    "Name | Variable description | Type | Units of measurement\n",
    "---|---|---|---\n",
    "Zip Code Tabulation Area | Zip Code | Nominal | None\n",
    "Vaccine Equity Metric Quartile | Health equity score quartile | Numeric | None\n",
    "16+ Population | Total population aged 16+ | Numeric | Persons\n",
    "Persons Fully Vaccinated | Total number of people fully vaccinated | Numeric | Persons\n",
    "Persons Partially Vaccinated | Total number of people partially vaccinated | Numeric | Persons\n",
    "Percent of Population Fully Vaccinated | Percent of people fully vaccinated | Numeric | None\n",
    "Percent of Population Partially Vaccinated | Percent of people partially vaccinated | Numeric | None\n",
    "Percent of Population with 1+ Dose | Percent of people fully or partially vaccinated | Numeric | None\n",
    "\n",
    "Table 2: example rows of vaccination data\n",
    "\n",
    "<center><img src='vaxtidy-head.png' style='width:1000px'></center>\n",
    "\n",
    "Table 3: variable description and units for each variable in the report of registration dataset\n",
    "\n",
    "Name | Variable description | Type | Units of measurement\n",
    "---|---|---|---\n",
    "County | County | Nominal | None\n",
    "Eligible | Total amount of population eligible to register | Numeric | Persons\n",
    "Total Registered | Total amount of population registered to vote | Numeric | Persons\n",
    "Democratic | Total amount of population registered Democratic | Numeric | Persons\n",
    "Republican | Total amount of population registered Republican | Numeric | Persons\n",
    "\n",
    "Table 4: example of rows of report of registration data\n",
    "\n",
    "<center><img src='politidy-head.png' style='width:400px'></center>"
   ]
  },
  {
   "cell_type": "markdown",
   "id": "controlling-setup",
   "metadata": {},
   "source": [
    "---\n",
    "## Aims\n",
    "Let's take a look at our questions we have for these datasets.\n",
    "\n",
    "1. *Do different VEM scores show different percentages of vaccinations?*\n",
    "2. *Is there any correlation between political parties and vaccinations by county?*"
   ]
  },
  {
   "cell_type": "markdown",
   "id": "removable-physics",
   "metadata": {},
   "source": [
    "---\n",
    "## 4. Methods\n",
    "Exploratory analysis aimed at what factors are correlated with vaccinations. Specifically, we will analyze the VEM scores and political parties and compare them to vaccinations in different zip codes and counties. Higher VEM scores suggest more accessibility to health care, however, we want to see if this will have a direct link to people getting vaccinations. If counties have a majority of a specific political party, we want to see how their vaccination rates compare to the vaccination rates in another county where the majority is the opposing political party. To analyze this, we will utilize visualization through point-and-line graphs and bar plots. From this, we can make general conclusions on how factors like VEM and political parties correlate to vaccination rates. "
   ]
  },
  {
   "cell_type": "markdown",
   "id": "obvious-patrick",
   "metadata": {},
   "source": [
    "---\n",
    "## 5. Results\n",
    "### Average percentage of 1+ dose by the zip code's vaccine equity metric quartile\n",
    "Exploratory analysis focused on the correlation between the average percentage of 1+ dose by the zip code's vaccine equity metric quartile. Vaccine Equity Metric Quartile is the health equity metric score quartile, with 1 indicating least healthy community conditions and 4 indicating healthiest community conditions. Figure 1 shows the average percentage of 1+ dose by their vaccine equity metric quartile of all zip codes.\n",
    "\n",
    "Figure 1: <center><img src='vem-bar.png' style='width:400px'></center>\n",
    "\n",
    "From this, there is an obvious correlation with higher vaccinations and higher vaccine equity metric quartile.\n",
    "### Average percentage of 1+ dose by the county's average vaccine equity metric quartile\n",
    "Instead of measuring by zip codes, we instead measure by county here. Since we are measuring by county, we find the average vaccine equity metric quartile of the county. Figure 2 shows that average percentage of 1+ dose by the average vaccine equity metric quartile of all the counties.\n",
    "\n",
    "Figure 2: <center><img src='vem-scatter.png' style='width:400px'></center>\n",
    "\n",
    "Looking at the scatter plot and trend line, we can see that there is an upwards trend of vaccinations as the vaccine equity metric quartile increases.\n",
    "### Finding the correlation between political parties and their vaccinations\n",
    "From the second dataset, we can see which counties are dominated by what political parties with blue being Democrats and red being Republican. While there are many parties, we want to specifically focus on Democrats and Republicans. Figure 3 shows the percentage of each political party and their corresponding county.\n",
    "\n",
    "Figure 3: <center><img src='poliparty-bar.png' style='width:1000px'></center>\n",
    "\n",
    "Figure 4 shows us the average percentage of 1+ dose of each county.\n",
    "\n",
    "Figure 4: <center><img src='vaxbycounty-bar.png' style='width:1000px'></center>\n",
    "\n",
    "We want to see if there is any correlation between political parties and their vaccinations. Figure 5 shows a scatter plot with the amount of vaccinations shown by how big the circle is.\n",
    "\n",
    "Figure 5: <center><img src='polivax-scatterpop.png' style='width:600px'></center>\n",
    "\n",
    "From figure 5, if we split the scatter plot in half with Republicans on the left side and Democrats on the right side, we can see that the smaller circles are on the Republican dominated side while the bigger circles are on the Democraft dominated side."
   ]
  },
  {
   "cell_type": "markdown",
   "id": "changed-catalyst",
   "metadata": {},
   "source": [
    "---\n",
    "## 6. Discussion\n",
    "This project analyzed the correlation between different Calfiornia zip codes/counties and vaccine equity metric quartile as well as the correlation between political parties and the counties' vaccinations using data recorded from the California Immunization Registry 2015-2019 5-Year data and the Report of Registration of February 10, 2021. The analysis identified that there is a correlation of higher vaccination rates of counties with higher vaccine equity metric quartile and lower vaccination rates of counties with a lower vaccine equity metric quartile. The analysis also identified that there is a correlation of higher vaccination rates of counties that are Democrat dominated and lower vaccination rates of counties that are Republican dominated."
   ]
  }
 ],
 "metadata": {
  "kernelspec": {
   "display_name": "Python 3",
   "language": "python",
   "name": "python3"
  },
  "language_info": {
   "codemirror_mode": {
    "name": "ipython",
    "version": 3
   },
   "file_extension": ".py",
   "mimetype": "text/x-python",
   "name": "python",
   "nbconvert_exporter": "python",
   "pygments_lexer": "ipython3",
   "version": "3.7.10"
  }
 },
 "nbformat": 4,
 "nbformat_minor": 5
}
